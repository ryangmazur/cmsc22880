{
 "cells": [
  {
   "cell_type": "markdown",
   "id": "d082b5c4-2440-4c96-a6db-831590087fe1",
   "metadata": {},
   "source": [
    "# Introduction\n",
    "In this lab you will be exploring applications of entanglement, how to create your own custom gates, analyzing a Qiskit circuit, and adapting a circuit to a device specification.\n",
    "\n",
    "# Some helpful programming hints:\n",
    "Some helpful programming hints:\n",
    "\n",
    "- The line circuit.draw(), where circuit is your Qiskit circuit, will draw out the circuit so you can visualize it. This must be the final call in a cell in order for the circuit to be rendered, alternatively, you can call ```print(circuit)``` at any point to see an ascii representation of the circuit\n",
    "- op = qiskit.quantum_info.Operator(circuit) will create an operator object, and op.data will let you look at the overall matrix for a circuit.\n",
    "- Keep in mind that Qiskit has a different relationship between the drawing and mathematical representation than we have. Specifically, they place the left-most bit at the bottom rather than at the top. You can [**watch this video**](https://youtu.be/Gf7XFFKS9jE) for more information. This has several implications.\n",
    "- If you look at a circuit the way we do, then the state vector ends up being stored as \\[00, 10, 01, 11\\] rather than \\[00, 01, 10, 11\\] (where the qubit on top is still the left-most qubit).\n",
    "- In reality, though, Qiskit also considers the qubit order to be swapped (little endian), where the top qubit is the least significant (right-most) bit. That is for qubits from top to bottom q0, q1, q2, the bitstring is q2, q1, q0. So the state vector is still \\[00, 01, 10, 11\\] from this perspective. We can see this in the CX gate.\n",
    "\n",
    "```\n",
    "q0_0: ──■──  \n",
    "      ┌─┴─┐  \n",
    "q0_1: ┤ X ├  \n",
    "      └───┘  \n",
    "```\n",
    "   \n",
    "This ordering also affects the matrix, resulting in the following for CX:  \n",
    "```\n",
    "[[1, 0, 0, 0],  \n",
    " [0, 0, 0, 1],  \n",
    " [0, 0, 1, 0],  \n",
    " [0, 1, 0, 0]]  \n",
    "```\n",
    "\n",
    "Which will take \\[00: w, 01: x, 10: y, 11: z\\] to \\[00: w, 01: z, 10: y, 11: x\\] in little endian form, and \\[00: w, 01: y, 10: z, 11: x\\] in big endian form (most significant bit first).\n",
    "\n",
    "**You are allowed to use Numpy and Networkx in addition to the python standard library**\n",
    "\n",
    "# Grading:  \n",
    "- The output matrix of your circuit will be compared against a baseline circuit, your circuit will be compared against this matrix.\n",
    "- If they do not match, we will test the circuit with different inputs and compare against the expected values.\n",
    "- You will receive feedback for whether the circuit runs. If it does not, you will receive an error message. If it runs with no message, it means that your circuit runs, but not necessarily that the answer is correct.\n",
    "- **Do not change any function names or return types**\n",
    "\n"
   ]
  },
  {
   "cell_type": "markdown",
   "id": "c6306750-3009-4377-82eb-8b9f6f6d6aa0",
   "metadata": {},
   "source": [
    "# Exercise 1: Teleportation\n",
    "\n",
    "You are given a circuit with two qubits qubit_pair, represented as a tuple of two qubits, in a Bell state. The entangled pair can be in any possible Bell Pair (i.e., starting in |00>, |01>, |10>, or |11> before being entangled). The circuit also has a third qubit, outside_qubit. Write a function that transfers the state from the outside qubit to the second qubit in the Bell pair.\n",
    "\n",
    "bell_pair_start is a two-character string of 0s or 1s representing the start of the Bell pair before they are entangled.\n",
    "\n",
    "For ease of grading, please do not add measurement gates to your circuit. It is not explicitly necessary to demonstrate the transfer of state.\n"
   ]
  },
  {
   "cell_type": "code",
   "execution_count": 5,
   "id": "b3547fb9-1733-43a7-86d0-fb146bf0ded6",
   "metadata": {},
   "outputs": [
    {
     "data": {
      "text/html": [
       "<pre style=\"word-wrap: normal;white-space: pre;background: #fff0;line-height: 1.1;font-family: &quot;Courier New&quot;,Courier,monospace\">                     ┌───┐   \n",
       "q3_0: ────────────■──┤ H ├─■─\n",
       "      ┌───┐     ┌─┴─┐└───┘ │ \n",
       "q3_1: ┤ H ├──■──┤ X ├──■───┼─\n",
       "      └───┘┌─┴─┐└───┘┌─┴─┐ │ \n",
       "q3_2: ─────┤ X ├─────┤ X ├─■─\n",
       "           └───┘     └───┘   </pre>"
      ],
      "text/plain": [
       "                     ┌───┐   \n",
       "q3_0: ────────────■──┤ H ├─■─\n",
       "      ┌───┐     ┌─┴─┐└───┘ │ \n",
       "q3_1: ┤ H ├──■──┤ X ├──■───┼─\n",
       "      └───┘┌─┴─┐└───┘┌─┴─┐ │ \n",
       "q3_2: ─────┤ X ├─────┤ X ├─■─\n",
       "           └───┘     └───┘   "
      ]
     },
     "execution_count": 5,
     "metadata": {},
     "output_type": "execute_result"
    }
   ],
   "source": [
    "import qiskit\n",
    "\n",
    "def hw4_1_response(circuit, outside_qubit, qubit_pair, bell_pair_start):\n",
    "    # Put your code here (spaces for indentation)\n",
    "    circuit.h(qubit_pair[0])\n",
    "    circuit.cx(qubit_pair[0], qubit_pair[1])\n",
    "    circuit.cx(outside_qubit, qubit_pair[0])\n",
    "    circuit.h(outside_qubit)\n",
    "    circuit.cx(qubit_pair[0], qubit_pair[1])\n",
    "    circuit.cz(outside_qubit, qubit_pair[1])\n",
    "    # End Code\n",
    "    return circuit\n",
    "\n",
    "# reg = qiskit.QuantumRegister(3)\n",
    "# circuit = qiskit.QuantumCircuit(reg)\n",
    "\n",
    "# hw4_1_response(circuit, reg[0], (reg[1], reg[2]), \"00\").draw()"
   ]
  },
  {
   "cell_type": "markdown",
   "id": "5d7ca0ec-f348-4bb9-a0d5-fdb72182447b",
   "metadata": {},
   "source": [
    "# Exercise 2: Making Gates\n",
    "Create a function that, given a list of n-bit codes and the length of the code, creates a gate that acts on n+1 qubits, and implements the Archimedes Oracle. Then add it to an n-qubit circuit, and return the circuit from the function.\n",
    "\n",
    "Remember that a Qiskit uses a different ordering of states, where the top qubit is the least significant qubit when creating bitstrings.\n",
    "\n",
    "In our convention, the top qubit is the most significant bit, and a Qiskit matrix acting on a three qubit state vector will act on the state vector as if it was \\[000, 100, 010, 110, 001, 101, 011, 111\\].\n",
    "\n",
    "There is documentation on creating your own, custom gate [**here**](https://qiskit.org/documentation/apidoc/extensions.html)"
   ]
  },
  {
   "cell_type": "code",
   "execution_count": 44,
   "id": "f11eca24-c641-4ff6-ae2c-4deef5c6e0b8",
   "metadata": {},
   "outputs": [
    {
     "name": "stdout",
     "output_type": "stream",
     "text": [
      "2\n",
      "1\n",
      "01\n"
     ]
    }
   ],
   "source": [
    "import numpy as np\n",
    "\n",
    "def to_bin(val):\n",
    "    binstring = \"\"\n",
    "\n",
    "    while val != 0:\n",
    "        if val % 2 == 1:\n",
    "            binstring += \"1\"\n",
    "        else:\n",
    "            binstring += \"0\"\n",
    "\n",
    "        val //= 2\n",
    "\n",
    "    return binstring\n",
    "\n",
    "def hw4_2_response(circuit, n, codes):\n",
    "    # Put your code to find the entangled qubits here\n",
    "    matrix = np.zeros(n+1, dtype=np.int8)\n",
    "    shit_right = True\n",
    "\n",
    "    for i in range(0, n+1):\n",
    "        if (to_bin(i) in codes):\n",
    "            if shift_right:\n",
    "                matrix[i][i+1] = 1\n",
    "                shift_right = False\n",
    "            else:\n",
    "                matrix[i][i-1] = 1\n",
    "                shift_right = True\n",
    "        else:\n",
    "            matrix[i][i] = 1\n",
    "\n",
    "    my_gate = qiskit.UnitaryGate(matrix)\n",
    "\n",
    "    circuit.append(my_gate)\n",
    "\n",
    "    # Put your code here (spaces for indentation)\n",
    "    # End Code\n",
    "\n",
    "    return circuit"
   ]
  },
  {
   "cell_type": "markdown",
   "id": "96ecd534-4719-4515-9553-e8cd2350b1d7",
   "metadata": {},
   "source": [
    "# Exercise 3: Analyzing Circuits\n",
    "\n",
    "Write a function that given an n qubit circuit, returns a length n bitstring presenting the code for the Bernstein Vazarani Oracle embedded in the circuit, and the target of the oracle. Your bitstring should use an \"x\" to represent the location of the target, and 0s and 1s to represent the rest of the code and treat Qubit 0 as the most signficant bit.\n",
    "\n",
    "The only CX gates included in this circuit are involved in the oracle. You should do this without simulating the circuit, only analyzing the different gates in the circuit.\n",
    "\n",
    "You can examine the different operations in a circuit with a for loop over the circuit: for i in circuit: and i will be a tuple of the form (operation, qubits, classical bits)."
   ]
  },
  {
   "cell_type": "code",
   "execution_count": 33,
   "id": "f929240c-69cf-464a-88db-37ca1efdb087",
   "metadata": {},
   "outputs": [
    {
     "name": "stderr",
     "output_type": "stream",
     "text": [
      "<ipython-input-33-39f4a5fe6ae3>:10: DeprecationWarning: Back-references to from Bit instances to their containing Registers have been deprecated. Instead, inspect Registers to find their contained Bits.\n",
      "  control = gate[1][0].index\n",
      "<ipython-input-33-39f4a5fe6ae3>:11: DeprecationWarning: Back-references to from Bit instances to their containing Registers have been deprecated. Instead, inspect Registers to find their contained Bits.\n",
      "  target = gate[1][1].index\n"
     ]
    },
    {
     "data": {
      "text/plain": [
       "'101x'"
      ]
     },
     "execution_count": 33,
     "metadata": {},
     "output_type": "execute_result"
    }
   ],
   "source": [
    "import qiskit\n",
    "\n",
    "def hw4_3_response(circuit):\n",
    "    # Put your code to find the entangled qubits here\n",
    "    bitstring = \"0\" * circuit.num_qubits\n",
    "    bitlist = list(bitstring)\n",
    "\n",
    "    for gate in circuit:\n",
    "        if gate[0].name == 'cx':\n",
    "            control = gate[1][0].index\n",
    "            target = gate[1][1].index\n",
    "\n",
    "            bitlist[control] = \"1\"\n",
    "            bitlist[target] = \"x\"\n",
    "    # Put your code here (spaces for indentation)\n",
    "    # End Code\n",
    "\n",
    "    return \"\".join(bitlist)"
   ]
  },
  {
   "cell_type": "markdown",
   "id": "cea16a9e-c614-4783-a323-e2dcf0d711f3",
   "metadata": {
    "tags": []
   },
   "source": [
    "# Exercise 4: Routing a Circuit\n",
    "You will be given a random 8 qubit circuit and a connection graph, both as a NetworkX and a dictionary of lists, where the key is a qubit, and the value is a list of qubits it is connected to.\n",
    "\n",
    "Your goal is to create a function to decompose the circuit to 1 and 2 qubit gates.\n",
    "\n",
    "Then create a function, using the circuit you just created to recreate the circuit, and add SWAPs as necessary to make sure that the resulting circuit fits the restraints of the connection graph, while still ultimately performing the same actions.\n",
    "\n",
    "This is a very necessary step of compilation for NISQ era quantum computing, they are sparsely connected, so it is not possible for every qubit to interact with every other qubit. On many machines, 3 qubit gates must be rewritten in terms of their 1 and 2 qubit gate decompositions.\n",
    "\n",
    "Programming Notes\n",
    "Qiskit provides many utility \"passes\" which are algorithms that act on a circuit to analyze, alter or optimize the circuit. These passes work on a Directed Acyclic Graph or DAG, created from the circuit.\n",
    "\n",
    "To convert a circuit to a DAG use the code snippet dag = qiskit.converters.circuit_to_dag(circuit), and convert a DAG to a circuit with c = qiskit.converters.dag_to_circuit(dag).\n",
    "\n",
    "To decompose a circuit, you can use the pass found at qiskit.transpiler.passes.Unroll3qOrMore where the documentation can be found here.\n",
    "\n",
    "If you would like, you can use the NetworkX graph with qubits as nodes, or dictionary based graph, with qubits as the keys, and a list of neighboring qubits as the values as the basis of your transformations.\n",
    "\n",
    "Information for graph algorithms you will need using NetworkX, or other functions can be found here. Specifically, you will likely need:\n",
    "- Neighbors [**docs**](https://networkx.org/documentation/stable/reference/classes/generated/networkx.Graph.neighbors.html?highlight=neighbors#networkx.Graph.neighbors)\n",
    "- Shortest Path [**docs**](https://networkx.org/documentation/stable/reference/algorithms/generated/networkx.algorithms.shortest_paths.generic.shortest_path.html#networkx.algorithms.shortest_paths.generic.shortest_path) Can be used as nx.shortest_path.\n",
    "\n",
    "You may include helper functions if needed."
   ]
  },
  {
   "cell_type": "code",
   "execution_count": null,
   "id": "34b581c7-4071-4870-83e5-f950c3eb240c",
   "metadata": {},
   "outputs": [],
   "source": [
    "def decompose_circuit(circuit):\n",
    "    # return decomposed_circuit\n",
    "    return circuit\n",
    "\n",
    "def hw4_4_response(original_circuit, reg, connection_graph_nx, connection_graph_dictionary):\n",
    "    new_c = qiskit.QuantumCircuit(reg)\n",
    "    # Put your code here\n",
    "    # End Code\n",
    "\n",
    "    return new_c\n",
    "      "
   ]
  },
  {
   "cell_type": "markdown",
   "id": "be419955-6efc-4ec8-bea9-117bc77dc244",
   "metadata": {
    "tags": []
   },
   "source": [
    "# Submission\n",
    "Congratulations on completing the lab!  \n",
    "Make sure you:\n",
    "1. Download your lab as a python script (File-> Save and Export Notebook As...->Executable Script\n",
    "2. Rename the downloaded file to **LabAnswers.py**\n",
    "3. Upload the **LabAnswers.py** file to gradescope\n",
    "4. Ensure the autograder runs successfully "
   ]
  }
 ],
 "metadata": {
  "kernelspec": {
   "display_name": "Qiskit v0.34.2 (ipykernel)",
   "language": "python",
   "name": "python3"
  },
  "language_info": {
   "codemirror_mode": {
    "name": "ipython",
    "version": 3
   },
   "file_extension": ".py",
   "mimetype": "text/x-python",
   "name": "python",
   "nbconvert_exporter": "python",
   "pygments_lexer": "ipython3",
   "version": "3.8.1"
  },
  "widgets": {
   "application/vnd.jupyter.widget-state+json": {
    "state": {},
    "version_major": 2,
    "version_minor": 0
   }
  }
 },
 "nbformat": 4,
 "nbformat_minor": 5
}
