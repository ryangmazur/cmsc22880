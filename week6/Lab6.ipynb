{
 "cells": [
  {
   "cell_type": "markdown",
   "id": "d082b5c4-2440-4c96-a6db-831590087fe1",
   "metadata": {},
   "source": [
    "# Introduction\n",
    "This lab continues using the Qiskit Framework, but explores how to create equivalent circuits.\n",
    "\n",
    "In these exercises you will be given circuits that you will look for relationships between the gates in order to reorganize, and reduce in gate count, but ultimately still result in the same operation. This is an important step in quantum compilation, as current quantum computers have limited capacity, it is important to use as few gates as possible.\n",
    "\n",
    "For the following questions you will create Qiskit circuits to be submitted. There will be no empty circuits (no gates), if the circuit is empty, then you will receive no points.\n",
    "\n",
    "# Some helpful programming hints:\n",
    "Some helpful programming hints:\n",
    "\n",
    "- The line circuit.draw(), where circuit is your Qiskit circuit, will draw out the circuit so you can visualize it. This must be the final call in a cell in order for the circuit to be rendered, alternatively, you can call ```print(circuit)``` at any point to see an ascii representation of the circuit\n",
    "- op = qiskit.quantum_info.Operator(circuit) will create an operator object, and op.data will let you look at the overall matrix for a circuit.\n",
    "- Keep in mind that Qiskit has a different relationship between the drawing and mathematical representation than we have. Specifically, they place the left-most bit at the bottom rather than at the top. You can [**watch this video**](https://youtu.be/Gf7XFFKS9jE) for more information. This has several implications.\n",
    "- If you look at a circuit the way we do, then the state vector ends up being stored as \\[00, 10, 01, 11\\] rather than \\[00, 01, 10, 11\\] (where the qubit on top is still the left-most qubit).\n",
    "- In reality, though, Qiskit also considers the qubit order to be swapped (little endian), where the top qubit is the least significant (right-most) bit. That is for qubits from top to bottom q0, q1, q2, the bitstring is q2, q1, q0. So the state vector is still \\[00, 01, 10, 11\\] from this perspective. We can see this in the CX gate.\n",
    "\n",
    "```\n",
    "q0_0: ──■──  \n",
    "      ┌─┴─┐  \n",
    "q0_1: ┤ X ├  \n",
    "      └───┘  \n",
    "```\n",
    "   \n",
    "This ordering also affects the matrix, resulting in the following for CX:  \n",
    "```\n",
    "[[1, 0, 0, 0],  \n",
    " [0, 0, 0, 1],  \n",
    " [0, 0, 1, 0],  \n",
    " [0, 1, 0, 0]]  \n",
    "```\n",
    "\n",
    "Which will take \\[00: w, 01: x, 10: y, 11: z\\] to \\[00: w, 01: z, 10: y, 11: x\\] in little endian form, and \\[00: w, 01: y, 10: z, 11: x\\] in big endian form (most significant bit first).\n",
    "\n",
    "# Grading:  \n",
    "- The output matrix of your circuit will be compared against a baseline circuit, your circuit will be compared against this matrix.\n",
    "- If they do not match, we will test the circuit with different inputs and compare against the expected values.\n",
    "- You will receive feedback for whether the circuit runs. If it does not, you will receive an error message. If it runs with no message, it means that your circuit runs, but not necessarily that the answer is correct.\n",
    "- **Do not change any function names or return types**\n"
   ]
  },
  {
   "cell_type": "markdown",
   "id": "c6306750-3009-4377-82eb-8b9f6f6d6aa0",
   "metadata": {},
   "source": [
    "# Exercise 1: Decomposition and Cancellation\n",
    "```\n",
    "\n",
    "    ┌───┐          ┌───┐   ┌───┐\n",
    "q0: ┤ X ├──────────┤ X ├─X─┤ X ├\n",
    "    ├───┤┌───┐┌───┐└─┬─┘ │ └─┬─┘\n",
    "q1: ┤ H ├┤ X ├┤ H ├──■───X───■──\n",
    "    └───┘└───┘└───┘  \n",
    "      \n",
    "```\n",
    "Recreate the above circuit, using less gates. Examine how different gates can be broken up, and reorganized, to use less gates overall. It may be helpful to think of how the circuit would transform a given state α|00⟩+β|01⟩+γ|10⟩+𝛿|11⟩), and make sure that both circuits perform the same operation.\n",
    "\n",
    "You may include helper functions if needed.\n"
   ]
  },
  {
   "cell_type": "code",
   "execution_count": 67,
   "id": "b3547fb9-1733-43a7-86d0-fb146bf0ded6",
   "metadata": {},
   "outputs": [],
   "source": [
    "import qiskit\n",
    "\n",
    "def hw2_1_response():\n",
    "    qr1 = qiskit.QuantumRegister(2)\n",
    "    qc1 = qiskit.QuantumCircuit(qr1)\n",
    "\n",
    "    # Put your code here (spaces for indentation)\n",
    "    qc1.x(0)\n",
    "    qc1.cx(1, 0)\n",
    "    qc1.swap(0, 1)\n",
    "    qc1.cx(1, 0)\n",
    "    qc1.z(0)\n",
    "    qc1.z(1)\n",
    "    # End Code\n",
    "    return qc1\n",
    "      "
   ]
  },
  {
   "cell_type": "markdown",
   "id": "5d7ca0ec-f348-4bb9-a0d5-fdb72182447b",
   "metadata": {},
   "source": [
    "# Exercise 2: Commutative Instructions\n",
    "```\n",
    "\n",
    "                   ┌───┐┌───┐┌───┐┌───┐┌───┐     ┌───┐\n",
    "q0: ──■─────────■──┤ Z ├┤ X ├┤ X ├┤ X ├┤ Z ├──■──┤ Z ├\n",
    "    ┌─┴─┐┌───┐┌─┴─┐├───┤├───┤└─┬─┘├───┤├───┤┌─┴─┐├───┤\n",
    "q1: ┤ X ├┤ H ├┤ X ├┤ X ├┤ Z ├──■──┤ Z ├┤ X ├┤ X ├┤ X ├\n",
    "    └───┘└───┘└───┘└───┘└───┘     └───┘└───┘└───┘└───┘\n",
    "      \n",
    "\n",
    "```\n",
    "Recreate the above circuit, using less gates. Examine how different gates can be flipped, to use less gates overall. It may be helpful to think of how the circuit would transform a given state α|00⟩+β|01⟩+γ|10⟩+𝛿|11⟩), and make sure that both circuits perform the same operation.\n",
    "\n",
    "You may include helper functions if needed."
   ]
  },
  {
   "cell_type": "code",
   "execution_count": 66,
   "id": "f11eca24-c641-4ff6-ae2c-4deef5c6e0b8",
   "metadata": {},
   "outputs": [],
   "source": [
    "import qiskit\n",
    "\n",
    "def hw2_2_response():\n",
    "    qr2 = qiskit.QuantumRegister(2)\n",
    "    qc2 = qiskit.QuantumCircuit(qr2)\n",
    "\n",
    "    # Put your code here (spaces for indentation)\n",
    "    qc2.h(1)\n",
    "    qc2.swap(0,1)\n",
    "    qc2.x(0)\n",
    "    qc2.cz(1,0)\n",
    "    # End Code\n",
    "    return qc2"
   ]
  },
  {
   "cell_type": "markdown",
   "id": "96ecd534-4719-4515-9553-e8cd2350b1d7",
   "metadata": {},
   "source": [
    "# Exercise 3: Equivalent Composition\n",
    "```\n",
    "\n",
    "    ┌───┐┌───┐     ┌───┐                    ┌───┐\n",
    "q0: ┤ H ├┤ Z ├──■──┤ Z ├──■──────────────■──┤ H ├\n",
    "    └───┘└───┘┌─┴─┐└───┘┌─┴─┐            │  └───┘\n",
    "q1: ──────────┤ X ├──■──┤ X ├──■─────────┼───────\n",
    "              └───┘┌─┴─┐└───┘┌─┴─┐┌───┐┌─┴─┐     \n",
    "q2: ───────────────┤ X ├─────┤ X ├┤ X ├┤ X ├─────\n",
    "                   └───┘     └───┘└───┘└───┘     \n",
    "      \n",
    "\n",
    "```\n",
    "Recreate the above circuit, using less gates. Look at how you can combine gates to reorganize the circuit and use less gates overall.. It may be helpful to think of how the circuit would transform a given state α|000⟩+β|001⟩+γ|010⟩+𝛿|011⟩+w|100⟩+x|101⟩+y|110⟩+z|111⟩), and make sure that both circuits perform the same operation.\n",
    "\n",
    "You may include helper functions if needed."
   ]
  },
  {
   "cell_type": "code",
   "execution_count": 72,
   "id": "f929240c-69cf-464a-88db-37ca1efdb087",
   "metadata": {},
   "outputs": [
    {
     "name": "stdout",
     "output_type": "stream",
     "text": [
      "[[0.+0.j 0.+0.j 0.+0.j 0.+0.j 1.+0.j 0.+0.j 0.+0.j 0.+0.j]\n",
      " [0.+0.j 0.+0.j 0.+0.j 0.+0.j 0.+0.j 1.+0.j 0.+0.j 0.+0.j]\n",
      " [0.+0.j 0.+0.j 0.+0.j 0.+0.j 0.+0.j 0.+0.j 1.+0.j 0.+0.j]\n",
      " [0.+0.j 0.+0.j 0.+0.j 0.+0.j 0.+0.j 0.+0.j 0.+0.j 1.+0.j]\n",
      " [1.+0.j 0.+0.j 0.+0.j 0.+0.j 0.+0.j 0.+0.j 0.+0.j 0.+0.j]\n",
      " [0.+0.j 1.+0.j 0.+0.j 0.+0.j 0.+0.j 0.+0.j 0.+0.j 0.+0.j]\n",
      " [0.+0.j 0.+0.j 1.+0.j 0.+0.j 0.+0.j 0.+0.j 0.+0.j 0.+0.j]\n",
      " [0.+0.j 0.+0.j 0.+0.j 1.+0.j 0.+0.j 0.+0.j 0.+0.j 0.+0.j]]\n"
     ]
    },
    {
     "data": {
      "text/html": [
       "<pre style=\"word-wrap: normal;white-space: pre;background: #fff0;line-height: 1.1;font-family: &quot;Courier New&quot;,Courier,monospace\">            \n",
       "q67_0: ─────\n",
       "            \n",
       "q67_1: ─────\n",
       "       ┌───┐\n",
       "q67_2: ┤ X ├\n",
       "       └───┘</pre>"
      ],
      "text/plain": [
       "            \n",
       "q67_0: ─────\n",
       "            \n",
       "q67_1: ─────\n",
       "       ┌───┐\n",
       "q67_2: ┤ X ├\n",
       "       └───┘"
      ]
     },
     "execution_count": 72,
     "metadata": {},
     "output_type": "execute_result"
    }
   ],
   "source": [
    "import qiskit\n",
    "\n",
    "def hw2_3_response():\n",
    "    qr3 = qiskit.QuantumRegister(3)\n",
    "    qc3 = qiskit.QuantumCircuit(qr3)\n",
    "\n",
    "    # Put your code here (spaces for indentation)\n",
    "    qc3.x(2)\n",
    "    # End Code\n",
    "    return qc3"
   ]
  },
  {
   "cell_type": "markdown",
   "id": "be419955-6efc-4ec8-bea9-117bc77dc244",
   "metadata": {
    "jp-MarkdownHeadingCollapsed": true,
    "tags": []
   },
   "source": [
    "# Submission\n",
    "Congratulations on completing the lab!  \n",
    "Make sure you:\n",
    "1. Download your lab as a python script (File-> Save and Export Notebook As...->Executable Script\n",
    "2. Rename the downloaded file to **LabAnswers.py**\n",
    "3. Upload the **LabAnswers.py** file to gradescope\n",
    "4. Ensure the autograder runs successfully "
   ]
  }
 ],
 "metadata": {
  "kernelspec": {
   "display_name": "Qiskit v0.34.2 (ipykernel)",
   "language": "python",
   "name": "python3"
  },
  "language_info": {
   "codemirror_mode": {
    "name": "ipython",
    "version": 3
   },
   "file_extension": ".py",
   "mimetype": "text/x-python",
   "name": "python",
   "nbconvert_exporter": "python",
   "pygments_lexer": "ipython3",
   "version": "3.8.12"
  },
  "widgets": {
   "application/vnd.jupyter.widget-state+json": {
    "state": {},
    "version_major": 2,
    "version_minor": 0
   }
  }
 },
 "nbformat": 4,
 "nbformat_minor": 5
}
